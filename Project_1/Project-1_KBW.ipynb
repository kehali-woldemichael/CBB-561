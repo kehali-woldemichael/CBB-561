{
 "cells": [
  {
   "cell_type": "code",
   "execution_count": 21,
   "id": "629f8afe-55d3-4969-ad88-ec9a14bb1371",
   "metadata": {
    "execution": {
     "iopub.execute_input": "2023-02-16T20:01:13.078423Z",
     "iopub.status.busy": "2023-02-16T20:01:13.077921Z",
     "iopub.status.idle": "2023-02-16T20:01:13.085132Z",
     "shell.execute_reply": "2023-02-16T20:01:13.083905Z",
     "shell.execute_reply.started": "2023-02-16T20:01:13.078397Z"
    },
    "tags": []
   },
   "outputs": [],
   "source": [
    "import sys, re"
   ]
  },
  {
   "cell_type": "code",
   "execution_count": 30,
   "id": "5b2bef60-8814-4ce4-8459-2a9fc0db9a76",
   "metadata": {
    "execution": {
     "iopub.execute_input": "2023-02-16T20:08:44.645090Z",
     "iopub.status.busy": "2023-02-16T20:08:44.644650Z",
     "iopub.status.idle": "2023-02-16T20:08:44.653941Z",
     "shell.execute_reply": "2023-02-16T20:08:44.652966Z",
     "shell.execute_reply.started": "2023-02-16T20:08:44.645058Z"
    },
    "tags": []
   },
   "outputs": [],
   "source": [
    "def read_fasta(filename):\n",
    "    fasta_file = open(filename,'r')\n",
    "    lines = fasta_file.readlines()\n",
    "\n",
    "    hre=re.compile('>(\\S+)')\n",
    "    lre=re.compile('^(\\S+)$')\n",
    "\n",
    "    gene={}\n",
    "\n",
    "    for line in lines:\n",
    "        outh = hre.search(line)\n",
    "        #print(line)\n",
    "        if outh:\n",
    "            id = outh.group(1)\n",
    "            print(outh.group(1))\n",
    "        else:\n",
    "            outl = lre.search(line)\n",
    "            if(id in gene.keys()):\n",
    "                gene[id] += outl.group(1)\n",
    "            else:\n",
    "                gene[id] = outl.group(1)\n",
    "    return gene"
   ]
  },
  {
   "cell_type": "code",
   "execution_count": 32,
   "id": "f056065f-a23c-4828-9ff3-9409795a44e6",
   "metadata": {
    "execution": {
     "iopub.execute_input": "2023-02-16T20:14:01.947924Z",
     "iopub.status.busy": "2023-02-16T20:14:01.946913Z",
     "iopub.status.idle": "2023-02-16T20:14:01.956938Z",
     "shell.execute_reply": "2023-02-16T20:14:01.955196Z",
     "shell.execute_reply.started": "2023-02-16T20:14:01.947868Z"
    },
    "tags": []
   },
   "outputs": [],
   "source": [
    "def nw_score_genes(gene_file_1, gene_file_2, sc_file, scoring_type):\n",
    "    gene_1 = read_fasta(gene_file_1)\n",
    "    gene_2 = read_fasta(gene_file_2)\n",
    "    substitution_scores = read_sc(sc_file)"
   ]
  },
  {
   "cell_type": "code",
   "execution_count": 101,
   "id": "b4480770-ca78-4f9c-8f00-c0fea695a82b",
   "metadata": {
    "execution": {
     "iopub.execute_input": "2023-02-16T21:03:48.612777Z",
     "iopub.status.busy": "2023-02-16T21:03:48.612246Z",
     "iopub.status.idle": "2023-02-16T21:03:48.623562Z",
     "shell.execute_reply": "2023-02-16T21:03:48.622623Z",
     "shell.execute_reply.started": "2023-02-16T21:03:48.612751Z"
    },
    "tags": []
   },
   "outputs": [],
   "source": [
    "def read_sc(sc_file):\n",
    "    substitution_scores = open(sc_file)\n",
    "    lines = substitution_scores.readlines()[1:]\n",
    "    substitution_scores = {}\n",
    "    for line in lines:\n",
    "        if line[0] != '\\n':\n",
    "            id = line[0] \n",
    "            substitution_scores[id] = [int(x) for x in line[1:].replace(\"\\n\", \"\").split()]\n",
    "    return substitution_scores"
   ]
  },
  {
   "cell_type": "code",
   "execution_count": 103,
   "id": "0a8afb6e-f61d-460d-b3ed-ce574066c86a",
   "metadata": {
    "execution": {
     "iopub.execute_input": "2023-02-16T21:03:53.838025Z",
     "iopub.status.busy": "2023-02-16T21:03:53.837703Z",
     "iopub.status.idle": "2023-02-16T21:03:53.845788Z",
     "shell.execute_reply": "2023-02-16T21:03:53.843240Z",
     "shell.execute_reply.started": "2023-02-16T21:03:53.838003Z"
    },
    "tags": []
   },
   "outputs": [],
   "source": [
    "def return_sc(substitution_scores, n_1, n_2):\n",
    "    if n_1 == 'A': return substitution_scores[n_2][0]\n",
    "    if n_1 == 'G': return substitution_scores[n_2][1]\n",
    "    if n_1 == 'C': return substitution_scores[n_2][2]\n",
    "    if n_1 == 'T': return substitution_scores[n_2][3]\n",
    "    if n_1 == 'N': return substitution_scores[n_2][4]"
   ]
  },
  {
   "cell_type": "code",
   "execution_count": 106,
   "id": "91e68c8e-976b-49b7-a2f9-5df3e44b461f",
   "metadata": {
    "execution": {
     "iopub.execute_input": "2023-02-16T21:04:34.694140Z",
     "iopub.status.busy": "2023-02-16T21:04:34.693651Z",
     "iopub.status.idle": "2023-02-16T21:04:34.711328Z",
     "shell.execute_reply": "2023-02-16T21:04:34.710761Z",
     "shell.execute_reply.started": "2023-02-16T21:04:34.694103Z"
    },
    "tags": []
   },
   "outputs": [
    {
     "data": {
      "text/plain": [
       "{'A': [5, -1, -4, -4, -2],\n",
       " 'G': [-1, 5, -4, -4, -2],\n",
       " 'C': [-4, -4, 5, -1, -2],\n",
       " 'T': [-4, -4, -1, 5, -2],\n",
       " 'N': [-2, -2, -2, -2, -1]}"
      ]
     },
     "execution_count": 106,
     "metadata": {},
     "output_type": "execute_result"
    }
   ],
   "source": [
    "substitution_scores = read_sc('matrix.txt')\n",
    "substitution_scores"
   ]
  },
  {
   "cell_type": "code",
   "execution_count": 120,
   "id": "dd70503e-4088-480b-a6dc-ce3c4685f1a7",
   "metadata": {
    "execution": {
     "iopub.execute_input": "2023-02-16T21:10:31.122728Z",
     "iopub.status.busy": "2023-02-16T21:10:31.121794Z",
     "iopub.status.idle": "2023-02-16T21:10:31.137714Z",
     "shell.execute_reply": "2023-02-16T21:10:31.136170Z",
     "shell.execute_reply.started": "2023-02-16T21:10:31.122699Z"
    },
    "tags": []
   },
   "outputs": [
    {
     "data": {
      "text/plain": [
       "-1"
      ]
     },
     "execution_count": 120,
     "metadata": {},
     "output_type": "execute_result"
    }
   ],
   "source": [
    "return_sc(substitution_scores, 'N' ,'N')"
   ]
  },
  {
   "cell_type": "code",
   "execution_count": 34,
   "id": "e4d2f734-214a-4daf-a6a5-f3a0c7dc3ed1",
   "metadata": {
    "execution": {
     "iopub.execute_input": "2023-02-16T20:14:47.473374Z",
     "iopub.status.busy": "2023-02-16T20:14:47.472817Z",
     "iopub.status.idle": "2023-02-16T20:14:47.484967Z",
     "shell.execute_reply": "2023-02-16T20:14:47.481929Z",
     "shell.execute_reply.started": "2023-02-16T20:14:47.473337Z"
    },
    "tags": []
   },
   "outputs": [
    {
     "name": "stdout",
     "output_type": "stream",
     "text": [
      "first1\n",
      "first2\n",
      "first3\n",
      "first4\n",
      "first5\n",
      "first6\n",
      "first7\n",
      "first8\n",
      "first9\n",
      "first10\n",
      "second1\n",
      "second2\n",
      "second3\n",
      "second4\n",
      "second5\n",
      "second6\n",
      "second7\n",
      "second8\n",
      "second9\n",
      "second10\n"
     ]
    }
   ],
   "source": [
    "gene1 = read_fasta('close-first.fasta')\n",
    "gene2 = read_fasta('close-second.fasta')"
   ]
  },
  {
   "cell_type": "code",
   "execution_count": 122,
   "id": "b3a199dd-835c-4aa9-84c0-12f7700d1932",
   "metadata": {
    "execution": {
     "iopub.execute_input": "2023-02-16T21:15:53.833727Z",
     "iopub.status.busy": "2023-02-16T21:15:53.833369Z",
     "iopub.status.idle": "2023-02-16T21:15:53.855177Z",
     "shell.execute_reply": "2023-02-16T21:15:53.847338Z",
     "shell.execute_reply.started": "2023-02-16T21:15:53.833700Z"
    },
    "tags": []
   },
   "outputs": [
    {
     "data": {
      "text/plain": [
       "{'first1': 'AGACGGAGTTCCTTCTTGAGGCAATCTGCGTCTCAATCATAGCCCTCTCTGGCTACCCGCCCGATATCAATCCTGTTGATTATTTCACAGCCCACAAGCCGGCCTGAGCAAGAACGGAGCGCCTACCTACTTTTATGATTGGGATTACAGATTACAGACGTTTGGTATCTGAGCCATGTCTGCCTATAATGATTCGGGCTGGGCCGAAGTGCTACAGTAGACATTAGACATCCAAAGCGACGGTGGATGATCTAAATACTTGG',\n",
       " 'first2': 'CACTCCTTTGGCTCCCGATTTAATACAATCCGCGTACAGTGAGGCGGCGGGGATTACAGATTACAGGCCGGTTTTAGTACGATATCCTCGAAGCCGCATGCGGCCGGCCTATGCTGAACCCCGGCTTCTTTAAGTAGACATTAGACATAGGCCTATAAACTGTAATCTATCAGATCTCTATCTGCTAATTTTATCATCGTAGACCTTTTTCAAAGGCAGACTCCATCCATCTTAGCGGTTAGTCGCTTTCGACCCCCTCGTGA',\n",
       " 'first3': 'ACTAATCTGAGTTCTTATAACACTGAGTGACTCTCACAATATGGTTTCGCGCGTGCCACTAGACTGACATATAAGGACCCGCTATTTCGGTGAGTTATTGACACTCTTTTTTAGGGGAGTGTTGCTAGTGGGGAATGATGGAATCTACGATTACAGATTACAAGACGAAATGTACGCAAGAAGCACTTGGATTACCCCCGCTATTCTACTGGAGGCTTTGATTTAGACATTAGACATCTGGGGATGTGCCCACAATAACGATT',\n",
       " 'first4': 'GAGACCGAGGTTTCTTGACACGGTAGAATCCGTAAGTATAGTCGTACGTAGACAAATTGCCGACCGGGGTTTAAATTGACGTCCCCCGTGATGTGAATTCTCCTCGCAGTGGCGCGATTACAGATTACAAGAGTTCTCGAACCATTTCTTCAAAATTGCATGGTTTTTTTGACTTTCTTTATTTACGTGTAGACATTAGACATGGCTCTCGCTTCTGCCGAAAAAGCTGCACGGGTGTCACTATATGACTTAGCGCGGCAGCT',\n",
       " 'first5': 'AGGCGCGGTCCCAAAGAGGTAGGCGCTCACCGATTACAGATTACAGTCGGTGGAATCAGCATTGTACAACGCTTACTTGTATCCCGAATCATGTCTTTACCCCACAGGGACCTAGACATTAGACATGGACACTTTATGCGAACGGGATGTTCTTACGTGAATTCCCGCTGTTAGAGGCCGCTAAAAGAATTCCTGTTAGTGCTAGGCGCCATCCTTTGTTCAGTCACTACATCCTCTAGTCCAGTGTAAACCCTCGGCGGGTT',\n",
       " 'first6': 'ACTTTCAGGACTTGTAAAGGCCTGGGACTCTCACAAAGTCTTATAAGCCTGCCGTTTCAAACCGTTACGCGGCATGTACAACATCGTACGGAGATTACAGATTACACCGGACCTGGTGAGGTAATGCATCTTGTAGCCTAGTCGTATGGGCCCCCACAAGAAGCAATAAATTGAATGCTAGACATTAGACATAATTCAGAAGTACTACTCCAGCTTAGATCTTTCAGCCGATGTTGCCAATAAACCGCGATTGTTACTCTAGA',\n",
       " 'first7': 'AGAGGTATTCCATATCGTGTATGGCCTCACGTCCATTTGCTTTTTTACTATCAGCTTAACTGATTGCTTAAAGGATTACAGATTACAGGGGAATGGTATTTGGAACTTTATGGCAGATTACCGTCCGACGAGCAGCTATATACCATACTGTGTACGCTTGGGTCCTAGACATTAGACATTTTTCGGGATTGCCAAACTTGTACAGACCCTGATAGATCAGATTGCCACCGCTACAGTGGGACTAGTGGAGGGATGTGGGGGTT',\n",
       " 'first8': 'ATAGGCCTGTTGGGATTACAGATTACAAGAGAGCATCAGATCGTGACTGCTCCACTAAATCAGAACTCGCACTATCCCATTCCGTCAGCAAGTATTGCTATAGACATTAGACATGCGTCTTTATTTTACTTTGAAGCATGGTGGCGGGGCGTGGGACACTGACCTTTGGTGATCGCTCGTTGACTCCACTAACACGTATGGTTGCTGGCCGAGTCAGTTACATCATCCAATGGACGTCGGGGCGACAGAGAGCTTTGCCGGGA',\n",
       " 'first9': 'GGGCGCCAAGCCTAATTAGCCGTGACACTTGACGTGCCCTCTACCTTATGGGTTGCATCGTAGATAGGTGTATTTAAGGGTTCGTTAATATGGTGGCCTCAGGCTTATGGAAGGATTACAGATTACACAGCTTGCCCTTCTTTCTGGAGGGCCATGTCGGAGTTAAGCGGATGGCTCTTCAGAATGCTGTTCTGCCGACGCGTAGACATTAGACATTCAAGACTGAAGCCTTATGGACTATGCAGCAATAAACGTAATAGGGT',\n",
       " 'first10': 'CTAGGCGGATCGAAATTCGGATTACAGATTACAAACTTTGGAATAAATTTGGCTTCCATAGAAGAGTTGTACCAACAACTCACCTACGGACGCAGGGGACCTAGACATTAGACATCATACCAGGATACCCCGTTGGCTAGCGCATCAACCAGTACGGTACTTCCGAGCCTTACGTAATTTTCGTCTAATAATAACGCTGGTGCCAGTTTCCAGCGAGTCGGTGCCTGAGACTACGTTCGCCTGAGCACGCCTTGGACGGTCAT'}"
      ]
     },
     "execution_count": 122,
     "metadata": {},
     "output_type": "execute_result"
    }
   ],
   "source": [
    "gene1"
   ]
  },
  {
   "cell_type": "code",
   "execution_count": 36,
   "id": "57159f6f-9214-4532-a0c3-2cb28b50beb7",
   "metadata": {
    "execution": {
     "iopub.execute_input": "2023-02-16T20:15:04.298757Z",
     "iopub.status.busy": "2023-02-16T20:15:04.296902Z",
     "iopub.status.idle": "2023-02-16T20:15:04.318261Z",
     "shell.execute_reply": "2023-02-16T20:15:04.317941Z",
     "shell.execute_reply.started": "2023-02-16T20:15:04.298722Z"
    },
    "tags": []
   },
   "outputs": [
    {
     "data": {
      "text/plain": [
       "{'second1': 'AGACGGAGTCCTGCTCTTGAGGCACATTCGCGTCTCTAGACCCATCATAGCCCTCTCTGCTACCCGCCCGATTAATCTCTGTTGATTATTTTCACAGCCCACAAGCCGGCTGAAGCAAGCAACGGACAGCGCTACCTATTTTATGTTGGGATTACAGATTACAGACGTTTTGGCTATCGGCCTAGCCCATGTCTGCCTAATATGATTCGGGCTGGGACCGAAGTGCTCCAGTAGACATTAGACATCGGGCCAAAGCGAGGGTGGAAGTCTAAATACTTGG',\n",
       " 'second2': 'ACTCCTTTGGTCCATTTAATACAATCCGCGTACACGTGAGGCGGCGGGGATTACAGATTACAGGCCAGGTTTAGTAGGTGCCGATATCGCCGACAGCCGCAAGCGTGCGCTGCCCGGCCTATCTGAACCCCCGGGCTTTTTAAGTAGACATTAGACATACGGCCCTATAAACTGTAATCCTAGTCAGATCTCTATACTCTGCTAATTTATCATGTAGACTTTTGTCAAAGGGCGACGCGTGCTCCATCCATCTTAGCGTTGCGCTTTCGACTAGCCCCCTCGTGA',\n",
       " 'second3': 'ACTAATCTGAGTTCCTATAACATAGTGAGTGACTCTCACAATATGGTTTCGCGCGTCATGAACTGAACACAATAAGGACCCCCGCTATCATTCGGTGAGTTATTGACATCTTCTTTTAGGGGAGTTGTTGCTAGTATGGGATGATGGATCACGATTACAGATTACAAGACGAAATGTACGCAAGAAGCACTTGGAGTTACTCCCGCCGCTATTCTACCATCTGGAGGCTTATTTAGACATTAGACATCTGGGAGTGCCCACAGAAACGATT',\n",
       " 'second4': 'GAGACCGGAGGTTTCTTGACCAAGGTGAATCCGTAAGGTTAATAGTCGTACGTAGAAATTGCCTCGACGGGGTTTAAATTGACAGTCCTCCCGTGATGGAATTCTTCCTCGCAGTGGCGCGATTACAGATTACAAGAGTTCTCGAACCATTTCTTCCAAAATCTGCTGGTTTTTTGACTTCTTATTAACGTGGGGGTAGACATTAGACATGGCTCTCACGCTTCTGCCGAAAAAGCTGCACGGAAAGTGTCCGACTATATGACTTGCGGCAGCT',\n",
       " 'second5': 'AGGCGCGGCTCTCCCGGATCCCTACAAAGCAGTTGAGGTAGTAGCGCTCACGATTACAGATTACAGTCGCGTGAATCAGCCATTGTACAACGCTTACTATGTATCAACCCGATCATGTCTTTACCCCGCACTCAGGGGACTAGACATTAGACATGGACTTACTTATGTGGAAGGGACTGATCGTTCATTACGGTGAATTCCGCTGTTAGAGGGCCGCTAACGAAAGAATTCGCTTAGTGCTAGCGCCATCCTTTTTCAGTCACTACAATTCCCAGTAGTCCAGTTTGTAAACCCTACGCGGGTT',\n",
       " 'second6': 'ACTTTCAGGACTTGTAAAGGCTTGGGACAGTCTCACAAAGTCTATATAGCTGCCGTTTCAATTACCGTTACGCGGCATGTAACAACATCGTACATGGAGATTACAGATTACACCGGACCTGGTGAAGGTAATGCATTTGTAGCCTACGTATGGGCCCCCAACAAGAAGCAATAAATGAATGCTAGACATTAGACATAATTCAGAAGTACTACTCCAGCTTAATCTTGTCAGCCCTAGTGATGTTGCTTTAAGAGTAACCGCGATTGTTACCTCAAGGAC',\n",
       " 'second7': 'AGAGGTATCCATATCGTGATGTTCCATCGACGTCCATTTGCTTTTTTACCTTATCAGCTTAACTGATTGCTTAAAATCCAGGATTACAGATTACAGGGGCCCAACTGGATTGGAACTTTAGGCAGATTACCGTCCGACGAGCAGCTATTACCAACTGGGTACCTGGGTCCTAGACATTAGACATTTTTCGTGGATTGCCATAACTTGTACAACCCTGAATAGATCAGATCCACCGCTGTAACAGTGGGCTATGAGGGATGTGGGGGTT',\n",
       " 'second8': 'ATAGCCTGGGGATTACAGATTACAAGAGAGCATCAGACTCTCGTGACTGCTCCACTGAAATAGAACTCGACTACCCATTCCGTAGAAGATGCGTGCATAGACATTAGACATCGTCTTTTTTACTACGCTTTCGGAAGCATGGTGGCGGGGCGTGCACTGACCTTTGGTGATCTCTCGTTGACTACACCACCATGTGCACGATGAAACACGTATGCTTGCTGGCCGAGTCATTACATCATCCAATGGACAGGTCGGGGCGATCATCGGAGCGGCCTTTGCGGGA',\n",
       " 'second9': 'GGGCGCCAAGCCTAATATTAGCCGTGACTTGACGTGTGCCCCTACCTTATGGGTTGCATGTAGAAGGTGTATTGTAAGGTCGTAATATGGTGGACCTCGGCTTATGAAGGATTACAGATTACACAGCTGCTCCCTTTTCCTTTCCTGGATAGCGGCCATGTCGGAGTTAGCGGATGGCATCCTTCAGATGCTGTTGCCGACGCGTAGACATTAGACATTCAAGACTGAAGCCTTGGAACTATGCAGCAAAACGAATAGGGT',\n",
       " 'second10': 'CTAGGCGGATCGATAGAATTCGGATTACAGATTACAAACTTTGGAATAAATTTGCTTCCAAGAGAGTTGACCAACAAAGAGCTCCCTCCACCTACGGACGCAGGGGACCTAGACATTAGACATCATACCGATACCCCGATACATGAAGACGCTAGCGATCAACCAGTACGGTACTTCCGAGCCTTACGAATTTCGTCAATGATTTAATGTTTAACGCGTTCGCCAGTTTCCAGCGAGTCCGGTGCCGAGACACGTTCGCCTTTTGATAGCACGCCTTGGACGGTCAT'}"
      ]
     },
     "execution_count": 36,
     "metadata": {},
     "output_type": "execute_result"
    }
   ],
   "source": [
    "gene2"
   ]
  },
  {
   "cell_type": "code",
   "execution_count": 134,
   "id": "b7849d24-3751-4397-8101-57398f8555e6",
   "metadata": {
    "execution": {
     "iopub.execute_input": "2023-02-16T21:28:24.108369Z",
     "iopub.status.busy": "2023-02-16T21:28:24.108036Z",
     "iopub.status.idle": "2023-02-16T21:28:24.115543Z",
     "shell.execute_reply": "2023-02-16T21:28:24.114714Z",
     "shell.execute_reply.started": "2023-02-16T21:28:24.108347Z"
    },
    "tags": []
   },
   "outputs": [
    {
     "name": "stdout",
     "output_type": "stream",
     "text": [
      "first1 263\n",
      "second1 280\n",
      "first2 263\n",
      "second2 285\n",
      "first3 263\n",
      "second3 271\n",
      "first4 263\n",
      "second4 274\n",
      "first5 263\n",
      "second5 304\n",
      "first6 263\n",
      "second6 279\n",
      "first7 263\n",
      "second7 268\n",
      "first8 263\n",
      "second8 283\n",
      "first9 263\n",
      "second9 261\n",
      "first10 263\n",
      "second10 287\n"
     ]
    }
   ],
   "source": [
    "for key_exon1, key_exon2 in zip(gene1, gene2):\n",
    "    exon1 = gene1[key_exon1]\n",
    "    exon2 = gene2[key_exon2]\n",
    "    print(key_exon1 + ' ' + str(len(exon1)))\n",
    "    print(key_exon2 + ' ' + str(len(exon2)))"
   ]
  },
  {
   "cell_type": "code",
   "execution_count": 137,
   "id": "6092bf09-bf12-4a54-a3cf-7a4c428ed13a",
   "metadata": {
    "execution": {
     "iopub.execute_input": "2023-02-16T21:30:04.815813Z",
     "iopub.status.busy": "2023-02-16T21:30:04.815479Z",
     "iopub.status.idle": "2023-02-16T21:30:04.821169Z",
     "shell.execute_reply": "2023-02-16T21:30:04.819476Z",
     "shell.execute_reply.started": "2023-02-16T21:30:04.815777Z"
    },
    "tags": []
   },
   "outputs": [],
   "source": [
    "exon1_1 = gene1['first1']\n",
    "exon2_1 = gene2['second1']"
   ]
  },
  {
   "cell_type": "code",
   "execution_count": 138,
   "id": "1d91bc71-267d-4372-890f-432c8c537d14",
   "metadata": {
    "execution": {
     "iopub.execute_input": "2023-02-16T21:30:27.280299Z",
     "iopub.status.busy": "2023-02-16T21:30:27.279897Z",
     "iopub.status.idle": "2023-02-16T21:30:27.295108Z",
     "shell.execute_reply": "2023-02-16T21:30:27.293935Z",
     "shell.execute_reply.started": "2023-02-16T21:30:27.280276Z"
    },
    "tags": []
   },
   "outputs": [
    {
     "data": {
      "text/plain": [
       "'AGACGGAGTTCCTTCTTGAGGCAATCTGCGTCTCAATCATAGCCCTCTCTGGCTACCCGCCCGATATCAATCCTGTTGATTATTTCACAGCCCACAAGCCGGCCTGAGCAAGAACGGAGCGCCTACCTACTTTTATGATTGGGATTACAGATTACAGACGTTTGGTATCTGAGCCATGTCTGCCTATAATGATTCGGGCTGGGCCGAAGTGCTACAGTAGACATTAGACATCCAAAGCGACGGTGGATGATCTAAATACTTGG'"
      ]
     },
     "execution_count": 138,
     "metadata": {},
     "output_type": "execute_result"
    }
   ],
   "source": [
    "exon1_1"
   ]
  },
  {
   "cell_type": "code",
   "execution_count": 139,
   "id": "5dbb9292-e2e8-4f73-8550-8e56d4897483",
   "metadata": {
    "execution": {
     "iopub.execute_input": "2023-02-16T21:30:27.799812Z",
     "iopub.status.busy": "2023-02-16T21:30:27.799426Z",
     "iopub.status.idle": "2023-02-16T21:30:27.816249Z",
     "shell.execute_reply": "2023-02-16T21:30:27.815315Z",
     "shell.execute_reply.started": "2023-02-16T21:30:27.799787Z"
    },
    "tags": []
   },
   "outputs": [
    {
     "data": {
      "text/plain": [
       "'AGACGGAGTCCTGCTCTTGAGGCACATTCGCGTCTCTAGACCCATCATAGCCCTCTCTGCTACCCGCCCGATTAATCTCTGTTGATTATTTTCACAGCCCACAAGCCGGCTGAAGCAAGCAACGGACAGCGCTACCTATTTTATGTTGGGATTACAGATTACAGACGTTTTGGCTATCGGCCTAGCCCATGTCTGCCTAATATGATTCGGGCTGGGACCGAAGTGCTCCAGTAGACATTAGACATCGGGCCAAAGCGAGGGTGGAAGTCTAAATACTTGG'"
      ]
     },
     "execution_count": 139,
     "metadata": {},
     "output_type": "execute_result"
    }
   ],
   "source": [
    "exon2_1"
   ]
  },
  {
   "cell_type": "code",
   "execution_count": 140,
   "id": "960b4bf8-9d72-49d8-aba3-1ca6cb105897",
   "metadata": {
    "execution": {
     "iopub.execute_input": "2023-02-16T21:43:52.825777Z",
     "iopub.status.busy": "2023-02-16T21:43:52.825597Z",
     "iopub.status.idle": "2023-02-16T21:43:52.829006Z",
     "shell.execute_reply": "2023-02-16T21:43:52.828313Z",
     "shell.execute_reply.started": "2023-02-16T21:43:52.825762Z"
    },
    "tags": []
   },
   "outputs": [
    {
     "data": {
      "text/plain": [
       "263"
      ]
     },
     "execution_count": 140,
     "metadata": {},
     "output_type": "execute_result"
    }
   ],
   "source": [
    "len(exon1_1)"
   ]
  },
  {
   "cell_type": "code",
   "execution_count": 141,
   "id": "9a5c5e19-6cc4-4470-9194-0d2ff73a5a06",
   "metadata": {
    "execution": {
     "iopub.execute_input": "2023-02-16T21:44:05.746765Z",
     "iopub.status.busy": "2023-02-16T21:44:05.746348Z",
     "iopub.status.idle": "2023-02-16T21:44:05.763462Z",
     "shell.execute_reply": "2023-02-16T21:44:05.759422Z",
     "shell.execute_reply.started": "2023-02-16T21:44:05.746737Z"
    },
    "tags": []
   },
   "outputs": [
    {
     "data": {
      "text/plain": [
       "280"
      ]
     },
     "execution_count": 141,
     "metadata": {},
     "output_type": "execute_result"
    }
   ],
   "source": [
    "len(exon2_1)"
   ]
  },
  {
   "cell_type": "code",
   "execution_count": 144,
   "id": "246a008d-5199-42c8-8c55-5289d336b6ae",
   "metadata": {
    "execution": {
     "iopub.execute_input": "2023-02-16T21:52:29.716636Z",
     "iopub.status.busy": "2023-02-16T21:52:29.716314Z",
     "iopub.status.idle": "2023-02-16T21:52:29.723856Z",
     "shell.execute_reply": "2023-02-16T21:52:29.723016Z",
     "shell.execute_reply.started": "2023-02-16T21:52:29.716614Z"
    },
    "tags": []
   },
   "outputs": [
    {
     "data": {
      "text/plain": [
       "[[0, 0, 0], [0, 0, 0], [0, 0, 0]]"
      ]
     },
     "execution_count": 144,
     "metadata": {},
     "output_type": "execute_result"
    }
   ],
   "source": [
    "[[0] * 3] * 3"
   ]
  },
  {
   "cell_type": "code",
   "execution_count": null,
   "id": "0949cd08-683e-4b71-91cc-a7d619bb4b75",
   "metadata": {},
   "outputs": [],
   "source": []
  },
  {
   "cell_type": "code",
   "execution_count": null,
   "id": "9a75be00-0241-4621-9eed-2362b89aaf62",
   "metadata": {},
   "outputs": [],
   "source": []
  },
  {
   "cell_type": "code",
   "execution_count": null,
   "id": "d39e3d57-843f-4b61-b2de-ebd4ce2ea425",
   "metadata": {},
   "outputs": [],
   "source": []
  },
  {
   "cell_type": "code",
   "execution_count": null,
   "id": "977cf90b-8831-487f-92a5-f3b15266240f",
   "metadata": {},
   "outputs": [],
   "source": []
  },
  {
   "cell_type": "code",
   "execution_count": null,
   "id": "633aa6c0-808e-4e73-8019-dffbb6bbbc17",
   "metadata": {},
   "outputs": [],
   "source": []
  },
  {
   "cell_type": "code",
   "execution_count": null,
   "id": "4a955943-3950-49a9-8236-1d69ce9c6f44",
   "metadata": {},
   "outputs": [],
   "source": []
  },
  {
   "cell_type": "code",
   "execution_count": null,
   "id": "50a43e86-fbcd-4f90-9d12-ee59f76d40f3",
   "metadata": {},
   "outputs": [],
   "source": []
  },
  {
   "cell_type": "code",
   "execution_count": null,
   "id": "d5c094b9-8ac6-4b15-8134-7a71a2ea39bf",
   "metadata": {},
   "outputs": [],
   "source": []
  },
  {
   "cell_type": "code",
   "execution_count": null,
   "id": "cd81824f-37d8-4aba-a7db-ff6c2145e188",
   "metadata": {},
   "outputs": [],
   "source": []
  }
 ],
 "metadata": {
  "kernelspec": {
   "display_name": "CBB-561",
   "language": "python",
   "name": "cbb-561"
  },
  "language_info": {
   "codemirror_mode": {
    "name": "ipython",
    "version": 3
   },
   "file_extension": ".py",
   "mimetype": "text/x-python",
   "name": "python",
   "nbconvert_exporter": "python",
   "pygments_lexer": "ipython3",
   "version": "3.11.2"
  }
 },
 "nbformat": 4,
 "nbformat_minor": 5
}
