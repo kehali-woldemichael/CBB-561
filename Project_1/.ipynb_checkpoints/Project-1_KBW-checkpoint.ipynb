{
 "cells": [
  {
   "cell_type": "code",
   "execution_count": 21,
   "id": "629f8afe-55d3-4969-ad88-ec9a14bb1371",
   "metadata": {
    "execution": {
     "iopub.execute_input": "2023-02-16T20:01:13.078423Z",
     "iopub.status.busy": "2023-02-16T20:01:13.077921Z",
     "iopub.status.idle": "2023-02-16T20:01:13.085132Z",
     "shell.execute_reply": "2023-02-16T20:01:13.083905Z",
     "shell.execute_reply.started": "2023-02-16T20:01:13.078397Z"
    },
    "tags": []
   },
   "outputs": [],
   "source": [
    "import sys, re"
   ]
  },
  {
   "cell_type": "code",
   "execution_count": 30,
   "id": "5b2bef60-8814-4ce4-8459-2a9fc0db9a76",
   "metadata": {
    "execution": {
     "iopub.execute_input": "2023-02-16T20:08:44.645090Z",
     "iopub.status.busy": "2023-02-16T20:08:44.644650Z",
     "iopub.status.idle": "2023-02-16T20:08:44.653941Z",
     "shell.execute_reply": "2023-02-16T20:08:44.652966Z",
     "shell.execute_reply.started": "2023-02-16T20:08:44.645058Z"
    },
    "tags": []
   },
   "outputs": [],
   "source": [
    "def read_fasta(filename):\n",
    "    fasta_file = open(filename,'r')\n",
    "    lines = fasta_file.readlines()\n",
    "\n",
    "    hre=re.compile('>(\\S+)')\n",
    "    lre=re.compile('^(\\S+)$')\n",
    "\n",
    "    gene={}\n",
    "\n",
    "    for line in lines:\n",
    "        outh = hre.search(line)\n",
    "        #print(line)\n",
    "        if outh:\n",
    "            id = outh.group(1)\n",
    "            print(outh.group(1))\n",
    "        else:\n",
    "            outl = lre.search(line)\n",
    "            if(id in gene.keys()):\n",
    "                gene[id] += outl.group(1)\n",
    "            else:\n",
    "                gene[id] = outl.group(1)\n",
    "    return gene"
   ]
  },
  {
   "cell_type": "code",
   "execution_count": 32,
   "id": "f056065f-a23c-4828-9ff3-9409795a44e6",
   "metadata": {
    "execution": {
     "iopub.execute_input": "2023-02-16T20:14:01.947924Z",
     "iopub.status.busy": "2023-02-16T20:14:01.946913Z",
     "iopub.status.idle": "2023-02-16T20:14:01.956938Z",
     "shell.execute_reply": "2023-02-16T20:14:01.955196Z",
     "shell.execute_reply.started": "2023-02-16T20:14:01.947868Z"
    },
    "tags": []
   },
   "outputs": [],
   "source": [
    "def nw_score_genes(gene_file_1, gene_file_2, scoring_type):\n",
    "    gene_1 = read_fasta(gene_file_1)\n",
    "    gene_2 = read_fasta(gene_file_2)"
   ]
  },
  {
   "cell_type": "code",
   "execution_count": 34,
   "id": "e4d2f734-214a-4daf-a6a5-f3a0c7dc3ed1",
   "metadata": {
    "execution": {
     "iopub.execute_input": "2023-02-16T20:14:47.473374Z",
     "iopub.status.busy": "2023-02-16T20:14:47.472817Z",
     "iopub.status.idle": "2023-02-16T20:14:47.484967Z",
     "shell.execute_reply": "2023-02-16T20:14:47.481929Z",
     "shell.execute_reply.started": "2023-02-16T20:14:47.473337Z"
    },
    "tags": []
   },
   "outputs": [
    {
     "name": "stdout",
     "output_type": "stream",
     "text": [
      "first1\n",
      "first2\n",
      "first3\n",
      "first4\n",
      "first5\n",
      "first6\n",
      "first7\n",
      "first8\n",
      "first9\n",
      "first10\n",
      "second1\n",
      "second2\n",
      "second3\n",
      "second4\n",
      "second5\n",
      "second6\n",
      "second7\n",
      "second8\n",
      "second9\n",
      "second10\n"
     ]
    }
   ],
   "source": [
    "gene1 = read_fasta('close-first.fasta')\n",
    "gene2 = read_fasta('close-second.fasta')"
   ]
  },
  {
   "cell_type": "code",
   "execution_count": 35,
   "id": "b3a199dd-835c-4aa9-84c0-12f7700d1932",
   "metadata": {
    "execution": {
     "iopub.execute_input": "2023-02-16T20:14:58.673401Z",
     "iopub.status.busy": "2023-02-16T20:14:58.672865Z",
     "iopub.status.idle": "2023-02-16T20:14:58.681213Z",
     "shell.execute_reply": "2023-02-16T20:14:58.680668Z",
     "shell.execute_reply.started": "2023-02-16T20:14:58.673368Z"
    },
    "tags": []
   },
   "outputs": [
    {
     "data": {
      "text/plain": [
       "{'first1': 'AGACGGAGTTCCTTCTTGAGGCAATCTGCGTCTCAATCATAGCCCTCTCTGGCTACCCGCCCGATATCAATCCTGTTGATTATTTCACAGCCCACAAGCCGGCCTGAGCAAGAACGGAGCGCCTACCTACTTTTATGATTGGGATTACAGATTACAGACGTTTGGTATCTGAGCCATGTCTGCCTATAATGATTCGGGCTGGGCCGAAGTGCTACAGTAGACATTAGACATCCAAAGCGACGGTGGATGATCTAAATACTTGG',\n",
       " 'first2': 'CACTCCTTTGGCTCCCGATTTAATACAATCCGCGTACAGTGAGGCGGCGGGGATTACAGATTACAGGCCGGTTTTAGTACGATATCCTCGAAGCCGCATGCGGCCGGCCTATGCTGAACCCCGGCTTCTTTAAGTAGACATTAGACATAGGCCTATAAACTGTAATCTATCAGATCTCTATCTGCTAATTTTATCATCGTAGACCTTTTTCAAAGGCAGACTCCATCCATCTTAGCGGTTAGTCGCTTTCGACCCCCTCGTGA',\n",
       " 'first3': 'ACTAATCTGAGTTCTTATAACACTGAGTGACTCTCACAATATGGTTTCGCGCGTGCCACTAGACTGACATATAAGGACCCGCTATTTCGGTGAGTTATTGACACTCTTTTTTAGGGGAGTGTTGCTAGTGGGGAATGATGGAATCTACGATTACAGATTACAAGACGAAATGTACGCAAGAAGCACTTGGATTACCCCCGCTATTCTACTGGAGGCTTTGATTTAGACATTAGACATCTGGGGATGTGCCCACAATAACGATT',\n",
       " 'first4': 'GAGACCGAGGTTTCTTGACACGGTAGAATCCGTAAGTATAGTCGTACGTAGACAAATTGCCGACCGGGGTTTAAATTGACGTCCCCCGTGATGTGAATTCTCCTCGCAGTGGCGCGATTACAGATTACAAGAGTTCTCGAACCATTTCTTCAAAATTGCATGGTTTTTTTGACTTTCTTTATTTACGTGTAGACATTAGACATGGCTCTCGCTTCTGCCGAAAAAGCTGCACGGGTGTCACTATATGACTTAGCGCGGCAGCT',\n",
       " 'first5': 'AGGCGCGGTCCCAAAGAGGTAGGCGCTCACCGATTACAGATTACAGTCGGTGGAATCAGCATTGTACAACGCTTACTTGTATCCCGAATCATGTCTTTACCCCACAGGGACCTAGACATTAGACATGGACACTTTATGCGAACGGGATGTTCTTACGTGAATTCCCGCTGTTAGAGGCCGCTAAAAGAATTCCTGTTAGTGCTAGGCGCCATCCTTTGTTCAGTCACTACATCCTCTAGTCCAGTGTAAACCCTCGGCGGGTT',\n",
       " 'first6': 'ACTTTCAGGACTTGTAAAGGCCTGGGACTCTCACAAAGTCTTATAAGCCTGCCGTTTCAAACCGTTACGCGGCATGTACAACATCGTACGGAGATTACAGATTACACCGGACCTGGTGAGGTAATGCATCTTGTAGCCTAGTCGTATGGGCCCCCACAAGAAGCAATAAATTGAATGCTAGACATTAGACATAATTCAGAAGTACTACTCCAGCTTAGATCTTTCAGCCGATGTTGCCAATAAACCGCGATTGTTACTCTAGA',\n",
       " 'first7': 'AGAGGTATTCCATATCGTGTATGGCCTCACGTCCATTTGCTTTTTTACTATCAGCTTAACTGATTGCTTAAAGGATTACAGATTACAGGGGAATGGTATTTGGAACTTTATGGCAGATTACCGTCCGACGAGCAGCTATATACCATACTGTGTACGCTTGGGTCCTAGACATTAGACATTTTTCGGGATTGCCAAACTTGTACAGACCCTGATAGATCAGATTGCCACCGCTACAGTGGGACTAGTGGAGGGATGTGGGGGTT',\n",
       " 'first8': 'ATAGGCCTGTTGGGATTACAGATTACAAGAGAGCATCAGATCGTGACTGCTCCACTAAATCAGAACTCGCACTATCCCATTCCGTCAGCAAGTATTGCTATAGACATTAGACATGCGTCTTTATTTTACTTTGAAGCATGGTGGCGGGGCGTGGGACACTGACCTTTGGTGATCGCTCGTTGACTCCACTAACACGTATGGTTGCTGGCCGAGTCAGTTACATCATCCAATGGACGTCGGGGCGACAGAGAGCTTTGCCGGGA',\n",
       " 'first9': 'GGGCGCCAAGCCTAATTAGCCGTGACACTTGACGTGCCCTCTACCTTATGGGTTGCATCGTAGATAGGTGTATTTAAGGGTTCGTTAATATGGTGGCCTCAGGCTTATGGAAGGATTACAGATTACACAGCTTGCCCTTCTTTCTGGAGGGCCATGTCGGAGTTAAGCGGATGGCTCTTCAGAATGCTGTTCTGCCGACGCGTAGACATTAGACATTCAAGACTGAAGCCTTATGGACTATGCAGCAATAAACGTAATAGGGT',\n",
       " 'first10': 'CTAGGCGGATCGAAATTCGGATTACAGATTACAAACTTTGGAATAAATTTGGCTTCCATAGAAGAGTTGTACCAACAACTCACCTACGGACGCAGGGGACCTAGACATTAGACATCATACCAGGATACCCCGTTGGCTAGCGCATCAACCAGTACGGTACTTCCGAGCCTTACGTAATTTTCGTCTAATAATAACGCTGGTGCCAGTTTCCAGCGAGTCGGTGCCTGAGACTACGTTCGCCTGAGCACGCCTTGGACGGTCAT'}"
      ]
     },
     "execution_count": 35,
     "metadata": {},
     "output_type": "execute_result"
    }
   ],
   "source": [
    "gene1"
   ]
  },
  {
   "cell_type": "code",
   "execution_count": 36,
   "id": "57159f6f-9214-4532-a0c3-2cb28b50beb7",
   "metadata": {
    "execution": {
     "iopub.execute_input": "2023-02-16T20:15:04.298757Z",
     "iopub.status.busy": "2023-02-16T20:15:04.296902Z",
     "iopub.status.idle": "2023-02-16T20:15:04.318261Z",
     "shell.execute_reply": "2023-02-16T20:15:04.317941Z",
     "shell.execute_reply.started": "2023-02-16T20:15:04.298722Z"
    },
    "tags": []
   },
   "outputs": [
    {
     "data": {
      "text/plain": [
       "{'second1': 'AGACGGAGTCCTGCTCTTGAGGCACATTCGCGTCTCTAGACCCATCATAGCCCTCTCTGCTACCCGCCCGATTAATCTCTGTTGATTATTTTCACAGCCCACAAGCCGGCTGAAGCAAGCAACGGACAGCGCTACCTATTTTATGTTGGGATTACAGATTACAGACGTTTTGGCTATCGGCCTAGCCCATGTCTGCCTAATATGATTCGGGCTGGGACCGAAGTGCTCCAGTAGACATTAGACATCGGGCCAAAGCGAGGGTGGAAGTCTAAATACTTGG',\n",
       " 'second2': 'ACTCCTTTGGTCCATTTAATACAATCCGCGTACACGTGAGGCGGCGGGGATTACAGATTACAGGCCAGGTTTAGTAGGTGCCGATATCGCCGACAGCCGCAAGCGTGCGCTGCCCGGCCTATCTGAACCCCCGGGCTTTTTAAGTAGACATTAGACATACGGCCCTATAAACTGTAATCCTAGTCAGATCTCTATACTCTGCTAATTTATCATGTAGACTTTTGTCAAAGGGCGACGCGTGCTCCATCCATCTTAGCGTTGCGCTTTCGACTAGCCCCCTCGTGA',\n",
       " 'second3': 'ACTAATCTGAGTTCCTATAACATAGTGAGTGACTCTCACAATATGGTTTCGCGCGTCATGAACTGAACACAATAAGGACCCCCGCTATCATTCGGTGAGTTATTGACATCTTCTTTTAGGGGAGTTGTTGCTAGTATGGGATGATGGATCACGATTACAGATTACAAGACGAAATGTACGCAAGAAGCACTTGGAGTTACTCCCGCCGCTATTCTACCATCTGGAGGCTTATTTAGACATTAGACATCTGGGAGTGCCCACAGAAACGATT',\n",
       " 'second4': 'GAGACCGGAGGTTTCTTGACCAAGGTGAATCCGTAAGGTTAATAGTCGTACGTAGAAATTGCCTCGACGGGGTTTAAATTGACAGTCCTCCCGTGATGGAATTCTTCCTCGCAGTGGCGCGATTACAGATTACAAGAGTTCTCGAACCATTTCTTCCAAAATCTGCTGGTTTTTTGACTTCTTATTAACGTGGGGGTAGACATTAGACATGGCTCTCACGCTTCTGCCGAAAAAGCTGCACGGAAAGTGTCCGACTATATGACTTGCGGCAGCT',\n",
       " 'second5': 'AGGCGCGGCTCTCCCGGATCCCTACAAAGCAGTTGAGGTAGTAGCGCTCACGATTACAGATTACAGTCGCGTGAATCAGCCATTGTACAACGCTTACTATGTATCAACCCGATCATGTCTTTACCCCGCACTCAGGGGACTAGACATTAGACATGGACTTACTTATGTGGAAGGGACTGATCGTTCATTACGGTGAATTCCGCTGTTAGAGGGCCGCTAACGAAAGAATTCGCTTAGTGCTAGCGCCATCCTTTTTCAGTCACTACAATTCCCAGTAGTCCAGTTTGTAAACCCTACGCGGGTT',\n",
       " 'second6': 'ACTTTCAGGACTTGTAAAGGCTTGGGACAGTCTCACAAAGTCTATATAGCTGCCGTTTCAATTACCGTTACGCGGCATGTAACAACATCGTACATGGAGATTACAGATTACACCGGACCTGGTGAAGGTAATGCATTTGTAGCCTACGTATGGGCCCCCAACAAGAAGCAATAAATGAATGCTAGACATTAGACATAATTCAGAAGTACTACTCCAGCTTAATCTTGTCAGCCCTAGTGATGTTGCTTTAAGAGTAACCGCGATTGTTACCTCAAGGAC',\n",
       " 'second7': 'AGAGGTATCCATATCGTGATGTTCCATCGACGTCCATTTGCTTTTTTACCTTATCAGCTTAACTGATTGCTTAAAATCCAGGATTACAGATTACAGGGGCCCAACTGGATTGGAACTTTAGGCAGATTACCGTCCGACGAGCAGCTATTACCAACTGGGTACCTGGGTCCTAGACATTAGACATTTTTCGTGGATTGCCATAACTTGTACAACCCTGAATAGATCAGATCCACCGCTGTAACAGTGGGCTATGAGGGATGTGGGGGTT',\n",
       " 'second8': 'ATAGCCTGGGGATTACAGATTACAAGAGAGCATCAGACTCTCGTGACTGCTCCACTGAAATAGAACTCGACTACCCATTCCGTAGAAGATGCGTGCATAGACATTAGACATCGTCTTTTTTACTACGCTTTCGGAAGCATGGTGGCGGGGCGTGCACTGACCTTTGGTGATCTCTCGTTGACTACACCACCATGTGCACGATGAAACACGTATGCTTGCTGGCCGAGTCATTACATCATCCAATGGACAGGTCGGGGCGATCATCGGAGCGGCCTTTGCGGGA',\n",
       " 'second9': 'GGGCGCCAAGCCTAATATTAGCCGTGACTTGACGTGTGCCCCTACCTTATGGGTTGCATGTAGAAGGTGTATTGTAAGGTCGTAATATGGTGGACCTCGGCTTATGAAGGATTACAGATTACACAGCTGCTCCCTTTTCCTTTCCTGGATAGCGGCCATGTCGGAGTTAGCGGATGGCATCCTTCAGATGCTGTTGCCGACGCGTAGACATTAGACATTCAAGACTGAAGCCTTGGAACTATGCAGCAAAACGAATAGGGT',\n",
       " 'second10': 'CTAGGCGGATCGATAGAATTCGGATTACAGATTACAAACTTTGGAATAAATTTGCTTCCAAGAGAGTTGACCAACAAAGAGCTCCCTCCACCTACGGACGCAGGGGACCTAGACATTAGACATCATACCGATACCCCGATACATGAAGACGCTAGCGATCAACCAGTACGGTACTTCCGAGCCTTACGAATTTCGTCAATGATTTAATGTTTAACGCGTTCGCCAGTTTCCAGCGAGTCCGGTGCCGAGACACGTTCGCCTTTTGATAGCACGCCTTGGACGGTCAT'}"
      ]
     },
     "execution_count": 36,
     "metadata": {},
     "output_type": "execute_result"
    }
   ],
   "source": [
    "gene2"
   ]
  },
  {
   "cell_type": "code",
   "execution_count": 37,
   "id": "7547c9f3-5d7d-475f-9e23-e351361a5e73",
   "metadata": {
    "execution": {
     "iopub.execute_input": "2023-02-16T20:16:06.818553Z",
     "iopub.status.busy": "2023-02-16T20:16:06.818200Z",
     "iopub.status.idle": "2023-02-16T20:16:06.824441Z",
     "shell.execute_reply": "2023-02-16T20:16:06.822979Z",
     "shell.execute_reply.started": "2023-02-16T20:16:06.818529Z"
    },
    "tags": []
   },
   "outputs": [],
   "source": []
  },
  {
   "cell_type": "code",
   "execution_count": 79,
   "id": "b4480770-ca78-4f9c-8f00-c0fea695a82b",
   "metadata": {
    "execution": {
     "iopub.execute_input": "2023-02-16T20:41:40.141568Z",
     "iopub.status.busy": "2023-02-16T20:41:40.140932Z",
     "iopub.status.idle": "2023-02-16T20:41:40.155353Z",
     "shell.execute_reply": "2023-02-16T20:41:40.149513Z",
     "shell.execute_reply.started": "2023-02-16T20:41:40.141524Z"
    },
    "tags": []
   },
   "outputs": [],
   "source": [
    "def read_sc(sc_file):\n",
    "    substitution_scores = open(sc_file)\n",
    "    lines = substitution_scores.readlines()\n",
    "    substitution_scores = {}\n",
    "    for line in lines:\n",
    "        if line[0] != '\\n':\n",
    "            id = line[0] \n",
    "            substitution_scores[id] = line[1:].replace(\"\\n\", \"\").split()\n",
    "    return substitution_scores"
   ]
  },
  {
   "cell_type": "code",
   "execution_count": 81,
   "id": "91e68c8e-976b-49b7-a2f9-5df3e44b461f",
   "metadata": {
    "execution": {
     "iopub.execute_input": "2023-02-16T20:42:25.084960Z",
     "iopub.status.busy": "2023-02-16T20:42:25.084201Z",
     "iopub.status.idle": "2023-02-16T20:42:25.094950Z",
     "shell.execute_reply": "2023-02-16T20:42:25.094271Z",
     "shell.execute_reply.started": "2023-02-16T20:42:25.084930Z"
    },
    "tags": []
   },
   "outputs": [],
   "source": [
    "substitution_scores = read_sc('matrix.txt')"
   ]
  },
  {
   "cell_type": "code",
   "execution_count": 83,
   "id": "c777e81b-8b32-499b-be82-5cf8d31c1731",
   "metadata": {
    "execution": {
     "iopub.execute_input": "2023-02-16T20:42:31.785953Z",
     "iopub.status.busy": "2023-02-16T20:42:31.785421Z",
     "iopub.status.idle": "2023-02-16T20:42:31.799893Z",
     "shell.execute_reply": "2023-02-16T20:42:31.798707Z",
     "shell.execute_reply.started": "2023-02-16T20:42:31.785906Z"
    },
    "tags": []
   },
   "outputs": [
    {
     "data": {
      "text/plain": [
       "{' ': ['A', 'G', 'C', 'T', 'N'],\n",
       " 'A': ['5', '-1', '-4', '-4', '-2'],\n",
       " 'G': ['-1', '5', '-4', '-4', '-2'],\n",
       " 'C': ['-4', '-4', '5', '-1', '-2'],\n",
       " 'T': ['-4', '-4', '-1', '5', '-2'],\n",
       " 'N': ['-2', '-2', '-2', '-2', '-1']}"
      ]
     },
     "execution_count": 83,
     "metadata": {},
     "output_type": "execute_result"
    }
   ],
   "source": [
    "substitution_scores"
   ]
  },
  {
   "cell_type": "code",
   "execution_count": null,
   "id": "0a8afb6e-f61d-460d-b3ed-ce574066c86a",
   "metadata": {},
   "outputs": [],
   "source": []
  }
 ],
 "metadata": {
  "kernelspec": {
   "display_name": "CBB-561",
   "language": "python",
   "name": "cbb-561"
  },
  "language_info": {
   "codemirror_mode": {
    "name": "ipython",
    "version": 3
   },
   "file_extension": ".py",
   "mimetype": "text/x-python",
   "name": "python",
   "nbconvert_exporter": "python",
   "pygments_lexer": "ipython3",
   "version": "3.11.2"
  }
 },
 "nbformat": 4,
 "nbformat_minor": 5
}
